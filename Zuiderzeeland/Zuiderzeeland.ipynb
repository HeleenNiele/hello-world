{
 "cells": [
  {
   "cell_type": "code",
   "execution_count": 2,
   "metadata": {},
   "outputs": [],
   "source": [
    "import numpy as np\n",
    "import matplotlib.pyplot as plt\n",
    "import easygui\n",
    "import tkinter\n",
    "import csv\n",
    "import pandas as pd"
   ]
  },
  {
   "cell_type": "code",
   "execution_count": 3,
   "metadata": {},
   "outputs": [],
   "source": [
    "# Bestandlocaties \n",
    "postcode_path = r\"C:\\Users\\hnx\\Desktop\\Projecten\\2020\\Zuiderzeeland\\postcodetabel.xlsx\"\n",
    "data_path = r\"C:\\Users\\hnx\\Desktop\\Projecten\\2020\\Zuiderzeeland\\Overzicht bedrijfsafvalwaterlozingen en belasting rwzi 2016 2017 2018.xlsx\"\n",
    "output_path = r\"C:\\Users\\hnx\\Desktop\\Projecten\\2020\\Zuiderzeeland\""
   ]
  },
  {
   "cell_type": "code",
   "execution_count": 15,
   "metadata": {
    "tags": []
   },
   "outputs": [
    {
     "output_type": "stream",
     "name": "stdout",
     "text": "postcodes lezen ...\nIndex(['Plaats', 'Gemeente', 'Latitude', 'Longitude'], dtype='object')\n"
    }
   ],
   "source": [
    "print(\"postcodes lezen ...\")\n",
    "postcodes = pd.read_excel(postcode_path,index_col='PostCode',usecols=['PostCode','Plaats','Gemeente','Latitude','Longitude'])\n",
    "print(postcodes.columns)"
   ]
  },
  {
   "cell_type": "code",
   "execution_count": 35,
   "metadata": {
    "tags": []
   },
   "outputs": [
    {
     "output_type": "stream",
     "name": "stdout",
     "text": "POSTK_N POSTK_A ZUIV_KRING  GRONDSLAG_ALMERE  GRONDSLAG_DRONTEN  \\\n0    8218      NA   Lelystad               NaN                NaN   \n1    1311      GB     Almere               0.0                NaN   \n2    8313      RH  Tollebeek               NaN                NaN   \n3    8307      PN  Tollebeek               NaN                NaN   \n4    8305      BM  Tollebeek               NaN                NaN   \n\n   GRONDSLAG_LELYSTAD  GRONDSLAG_TOLLEBEEK  GRONDSLAG_ZEEWOLDE  \\\n0                 0.0                  NaN                 NaN   \n1                 NaN                  NaN                 NaN   \n2                 NaN                  0.0                 NaN   \n3                 NaN                  0.0                 NaN   \n4                 NaN                  0.0                 NaN   \n\n   GRONDSLAG_GEEN PostCode  \n0             0.0   8218NA  \n1             0.0   1311GB  \n2             0.0   8313RH  \n3             0.0   8307PN  \n4             0.0   8305BM  \n"
    }
   ],
   "source": [
    "data = pd.read_excel(data_path,sheet_name=\"Tabel 2017\",skiprows=range(0,11),usecols=[\"POSTK_N\",\"POSTK_A\",\"ZUIV_KRING\",\"GRONDSLAG_ALMERE\",\"GRONDSLAG_DRONTEN\",\"GRONDSLAG_TOLLEBEEK\",\"GRONDSLAG_LELYSTAD\",\"GRONDSLAG_ZEEWOLDE\",\"GRONDSLAG_GEEN\"],keep_default_na=False)\n",
    "data[\"PostCode\"] = data[\"POSTK_N\"].astype(str) + data[\"POSTK_A\"].astype(str)\n",
    "data.set_index(\"PostCode\")\n",
    "print(data.head())"
   ]
  },
  {
   "cell_type": "code",
   "execution_count": 36,
   "metadata": {
    "tags": []
   },
   "outputs": [
    {
     "output_type": "stream",
     "name": "stdout",
     "text": "Plaats          Gemeente   Latitude  Longitude\nPostCode                                                    \n6651EH        Druten            Druten  51.887605   5.597723\n1189WK    Amstelveen        Amstelveen  52.259021   4.869899\n1065VL     Amsterdam         Amsterdam  52.362345   4.831505\n8471RK       Wolvega  Weststellingwerf  52.873527   5.996328\n7231JH     Warnsveld           Zutphen  52.138558   6.225588\n"
    }
   ],
   "source": [
    "print(postcodes.head())"
   ]
  },
  {
   "cell_type": "code",
   "execution_count": 37,
   "metadata": {
    "tags": []
   },
   "outputs": [
    {
     "output_type": "stream",
     "name": "stdout",
     "text": "POSTK_N POSTK_A ZUIV_KRING  GRONDSLAG_ALMERE  GRONDSLAG_DRONTEN  \\\n0    8218      NA   Lelystad               NaN                NaN   \n1    1311      GB     Almere               0.0                NaN   \n2    8313      RH  Tollebeek               NaN                NaN   \n3    8307      PN  Tollebeek               NaN                NaN   \n4    8305      BM  Tollebeek               NaN                NaN   \n\n   GRONDSLAG_LELYSTAD  GRONDSLAG_TOLLEBEEK  GRONDSLAG_ZEEWOLDE  \\\n0                 0.0                  NaN                 NaN   \n1                 NaN                  NaN                 NaN   \n2                 NaN                  0.0                 NaN   \n3                 NaN                  0.0                 NaN   \n4                 NaN                  0.0                 NaN   \n\n   GRONDSLAG_GEEN PostCode  \n0             0.0   8218NA  \n1             0.0   1311GB  \n2             0.0   8313RH  \n3             0.0   8307PN  \n4             0.0   8305BM  \n"
    }
   ],
   "source": [
    "print(data.head())"
   ]
  },
  {
   "cell_type": "code",
   "execution_count": 38,
   "metadata": {},
   "outputs": [],
   "source": [
    "totaal = pd.merge(data, postcodes, how='left', on=\"PostCode\")"
   ]
  },
  {
   "cell_type": "code",
   "execution_count": 39,
   "metadata": {
    "tags": []
   },
   "outputs": [
    {
     "output_type": "stream",
     "name": "stdout",
     "text": "POSTK_N POSTK_A ZUIV_KRING  GRONDSLAG_ALMERE  GRONDSLAG_DRONTEN  \\\n0    8218      NA   Lelystad               NaN                NaN   \n1    1311      GB     Almere               0.0                NaN   \n2    8313      RH  Tollebeek               NaN                NaN   \n3    8307      PN  Tollebeek               NaN                NaN   \n4    8305      BM  Tollebeek               NaN                NaN   \n\n   GRONDSLAG_LELYSTAD  GRONDSLAG_TOLLEBEEK  GRONDSLAG_ZEEWOLDE  \\\n0                 0.0                  NaN                 NaN   \n1                 NaN                  NaN                 NaN   \n2                 NaN                  0.0                 NaN   \n3                 NaN                  0.0                 NaN   \n4                 NaN                  0.0                 NaN   \n\n   GRONDSLAG_GEEN PostCode     Plaats         Gemeente   Latitude  Longitude  \n0             0.0   8218NA   Lelystad         Lelystad  52.457333   5.482399  \n1             0.0   1311GB     Almere           Almere  52.366713   5.172214  \n2             0.0   8313RH     Rutten  Noordoostpolder  52.820458   5.759723  \n3             0.0   8307PN        Ens  Noordoostpolder  52.645117   5.847373  \n4             0.0   8305BM  Emmeloord  Noordoostpolder  52.712853   5.783603  \n"
    }
   ],
   "source": [
    "print(totaal.head())"
   ]
  },
  {
   "cell_type": "code",
   "execution_count": null,
   "metadata": {},
   "outputs": [],
   "source": []
  }
 ],
 "metadata": {
  "language_info": {
   "codemirror_mode": {
    "name": "ipython",
    "version": 3
   },
   "file_extension": ".py",
   "mimetype": "text/x-python",
   "name": "python",
   "nbconvert_exporter": "python",
   "pygments_lexer": "ipython3",
   "version": "3.6.2"
  },
  "orig_nbformat": 2,
  "kernelspec": {
   "name": "python36264bitprogramdatavirtualenv7db86c4c1e404220a028449b25985c17",
   "display_name": "Python 3.6.2 64-bit ('ProgramData': virtualenv)"
  }
 },
 "nbformat": 4,
 "nbformat_minor": 2
}